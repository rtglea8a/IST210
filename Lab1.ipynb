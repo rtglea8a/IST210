{
  "nbformat": 4,
  "nbformat_minor": 0,
  "metadata": {
    "colab": {
      "name": "Untitled1.ipynb",
      "provenance": [],
      "authorship_tag": "ABX9TyPDz+/jSiSpzFr+KuiH6blQ",
      "include_colab_link": true
    },
    "kernelspec": {
      "name": "python3",
      "display_name": "Python 3"
    }
  },
  "cells": [
    {
      "cell_type": "markdown",
      "metadata": {
        "id": "view-in-github",
        "colab_type": "text"
      },
      "source": [
        "<a href=\"https://colab.research.google.com/github/rtglea8a/IST210/blob/master/Lab1.ipynb\" target=\"_parent\"><img src=\"https://colab.research.google.com/assets/colab-badge.svg\" alt=\"Open In Colab\"/></a>"
      ]
    },
    {
      "cell_type": "markdown",
      "metadata": {
        "id": "D3hqrw9QGRHK",
        "colab_type": "text"
      },
      "source": [
        "### **Name**"
      ]
    },
    {
      "cell_type": "markdown",
      "metadata": {
        "id": "BLuwoFsXFXJ4",
        "colab_type": "text"
      },
      "source": [
        "- Ryan Gleason"
      ]
    },
    {
      "cell_type": "markdown",
      "metadata": {
        "id": "hfOGKcQUGdDq",
        "colab_type": "text"
      },
      "source": [
        "### **IST Related** **Interests**"
      ]
    },
    {
      "cell_type": "markdown",
      "metadata": {
        "id": "RZ8AMuRqFZ3Z",
        "colab_type": "text"
      },
      "source": [
        "- In the college of IST, I'm interested in the cyber security major and I also recognize how there is a growing demand for the profession. "
      ]
    },
    {
      "cell_type": "markdown",
      "metadata": {
        "id": "eKC5KmQYGm7r",
        "colab_type": "text"
      },
      "source": [
        "### **Future Job / Career**"
      ]
    },
    {
      "cell_type": "markdown",
      "metadata": {
        "id": "V8Z1Z7EXFriJ",
        "colab_type": "text"
      },
      "source": [
        "- In the future I'd like to continue with cyber security and possibly work for the government or CIA. "
      ]
    },
    {
      "cell_type": "markdown",
      "metadata": {
        "id": "vzDrn0fXHwe1",
        "colab_type": "text"
      },
      "source": [
        "![alt text](https://raw.githubusercontent.com/rtglea8a/IST210/master/qqq.png)"
      ]
    }
  ]
}